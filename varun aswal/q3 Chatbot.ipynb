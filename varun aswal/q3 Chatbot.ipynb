{
  "nbformat": 4,
  "nbformat_minor": 0,
  "metadata": {
    "colab": {
      "name": "Chatbot.ipynb",
      "provenance": [],
      "collapsed_sections": []
    },
    "kernelspec": {
      "name": "python3",
      "display_name": "Python 3"
    },
    "language_info": {
      "name": "python"
    }
  },
  "cells": [
    {
      "cell_type": "code",
      "metadata": {
        "id": "HsETwOZXbnQe"
      },
      "source": [
        "import nltk\n",
        "from nltk.chat.util import Chat, reflections"
      ],
      "execution_count": 1,
      "outputs": []
    },
    {
      "cell_type": "code",
      "metadata": {
        "id": "7mWbcP5scKXm"
      },
      "source": [
        "reflections = {\n",
        "  \"i am\"       : \"you are\",\n",
        "  \"i was\"      : \"you were\",\n",
        "  \"i\"          : \"you\",\n",
        "  \"i'm\"        : \"you are\",\n",
        "  \"i'd\"        : \"you would\",\n",
        "  \"i've\"       : \"you have\",\n",
        "  \"i'll\"       : \"you will\",\n",
        "  \"my\"         : \"your\",\n",
        "  \"you are\"    : \"I am\",\n",
        "  \"you were\"   : \"I was\",\n",
        "  \"you've\"     : \"I have\",\n",
        "  \"you'll\"     : \"I will\",\n",
        "  \"your\"       : \"my\",\n",
        "  \"yours\"      : \"mine\",\n",
        "  \"you\"        : \"me\",\n",
        "  \"me\"         : \"you\"\n",
        "}"
      ],
      "execution_count": 2,
      "outputs": []
    },
    {
      "cell_type": "code",
      "metadata": {
        "id": "-x-yX-QwcPfD"
      },
      "source": [
        "pairs = [\n",
        "    [\n",
        "        r\"my name is (.*)\",\n",
        "        [\"Hello %1, How are you today ?\",]\n",
        "    ],\n",
        "    [\n",
        "        r\"hi|hey|hello\",\n",
        "        [\"Hello\", \"Hey there\",]\n",
        "    ], \n",
        "    [\n",
        "        r\"what is your name ?\",\n",
        "        [\"I am a chatbot. You can call me crazy!\",]\n",
        "    ],\n",
        "    [\n",
        "        r\"how are you ?\",\n",
        "        [\"I'm doing good and How about You ?\",]\n",
        "    ],\n",
        "    [\n",
        "        r\"sorry (.*)\",\n",
        "        [\"Its alright\",\"Its OK, never mind\",]\n",
        "    ],\n",
        "    [\n",
        "        r\"I am fine\",\n",
        "        [\"Great to hear that, How can I help you?\",]\n",
        "    ],\n",
        "    [\n",
        "        r\"i'm (.*) doing good\",\n",
        "        [\"Nice to hear that\",\"How can I help you?:)\",]\n",
        "    ],\n",
        "    [\n",
        "        r\"(.*) age?\",\n",
        "        [\"I'm a computer program dude. Seriously you are asking me this?\",]\n",
        "    ],\n",
        "    [\n",
        "        r\"what (.*) want ?\",\n",
        "        [\"Make me an offer I can't refuse\",]\n",
        "    ],\n",
        "    [\n",
        "        r\"(.*) created ?\",\n",
        "        [\"I was created by using Python's NLTK library \",\"top secret ;)\",]\n",
        "    ],\n",
        "    [\n",
        "        r\"(.*) (location|city) ?\",\n",
        "        ['Dehradun, Uttarakhand',]\n",
        "    ],\n",
        "    [\n",
        "        r\"how is weather in (.*)?\",\n",
        "        [\"Weather in %1 is awesome like always\",\"Too hot man here in %1\",\"Too cold man here in %1\",\"Never even heard about %1\"]\n",
        "    ],\n",
        "    [\n",
        "        r\"i work in (.*)?\",\n",
        "        [\"%1 is an Amazing company, I have heard about it. But they are in huge loss these days.\",]\n",
        "    ],\n",
        "    [\n",
        "        r\"(.*)raining in (.*)\",\n",
        "        [\"No rain since last week here in %2\",\"Damn its raining too much here in %2\"]\n",
        "    ],\n",
        "    [\n",
        "        r\"how (.*) health(.*)\",\n",
        "        [\"I'm a computer program, so I'm always healthy \",]\n",
        "    ],\n",
        "    [\n",
        "        r\"(.*) (sports|game) ?\",\n",
        "        [\"I'm a very big fan of Football\",]\n",
        "    ],\n",
        "    [\n",
        "        r\"who (.*) sportsperson ?\",\n",
        "        [\"Messy\",\"Ronaldo\",\"Roony\"]\n",
        "    ],\n",
        "    [\n",
        "        r\"who (.*) (moviestar|actor)?\",\n",
        "        [\"Emran Hasmi\"]\n",
        "    ],\n",
        "    [\n",
        "        r\"quit\",\n",
        "        [\"BBye take care. See you soon :) \",\"It was nice talking to you. See you soon :)\"]\n",
        "    ],\n",
        "]"
      ],
      "execution_count": 3,
      "outputs": []
    },
    {
      "cell_type": "code",
      "metadata": {
        "colab": {
          "base_uri": "https://localhost:8080/",
          "height": 0
        },
        "id": "xPHIWDKlcnxR",
        "outputId": "1734be45-4868-4b3d-d2b7-c13a715292c7"
      },
      "source": [
        "def chat():\n",
        "    print(\"Hi! I am a chatbot for your service\")\n",
        "    chat = Chat(pairs, reflections)\n",
        "    chat.converse()\n",
        "#initiate the conversation\n",
        "if __name__ == \"__main__\":\n",
        "    chat()"
      ],
      "execution_count": 4,
      "outputs": [
        {
          "output_type": "stream",
          "name": "stdout",
          "text": [
            "Hi! I am a chatbot for your service\n",
            ">hi\n",
            "Hello\n",
            ">how are you\n",
            "I'm doing good and How about You ?\n",
            ">i am fine too\n",
            "Great to hear that, How can I help you?\n",
            ">tell your age\n",
            "I'm a computer program dude. Seriously you are asking me this?\n",
            ">who created you\n",
            "top secret ;)\n",
            ">which sport are you in\n",
            "None\n",
            ">which sports you like\n",
            "I'm a very big fan of Football\n",
            ">which sportsperson you like\n",
            "I'm a very big fan of Football\n",
            ">quit\n",
            "It was nice talking to you. See you soon :)\n"
          ]
        }
      ]
    },
    {
      "cell_type": "code",
      "metadata": {
        "id": "w0oOMqMecsT6"
      },
      "source": [
        ""
      ],
      "execution_count": 4,
      "outputs": []
    }
  ]
}