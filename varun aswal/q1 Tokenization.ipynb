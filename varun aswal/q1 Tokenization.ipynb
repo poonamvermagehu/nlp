{
  "nbformat": 4,
  "nbformat_minor": 0,
  "metadata": {
    "colab": {
      "name": "Tokenization.ipynb",
      "provenance": [],
      "collapsed_sections": []
    },
    "kernelspec": {
      "name": "python3",
      "display_name": "Python 3"
    },
    "language_info": {
      "name": "python"
    }
  },
  "cells": [
    {
      "cell_type": "code",
      "metadata": {
        "colab": {
          "base_uri": "https://localhost:8080/",
          "height": 0
        },
        "id": "iGZfv02kPz5T",
        "outputId": "0c709a7e-7748-45b9-fb03-d2bce3e5648d"
      },
      "source": [
        "import nltk\n",
        "nltk.download('punkt')\n",
        "sentence_data = \"\"\"The First sentence is about Python. \n",
        "The Second: about Django. \n",
        "You can learn Python,Django and Data Ananlysis here. \"\"\"\n",
        "nltk_tokens = nltk.word_tokenize(sentence_data)\n",
        "print (nltk_tokens)"
      ],
      "execution_count": 1,
      "outputs": [
        {
          "output_type": "stream",
          "name": "stdout",
          "text": [
            "[nltk_data] Downloading package punkt to /root/nltk_data...\n",
            "[nltk_data]   Package punkt is already up-to-date!\n",
            "['The', 'First', 'sentence', 'is', 'about', 'Python', '.', 'The', 'Second', ':', 'about', 'Django', '.', 'You', 'can', 'learn', 'Python', ',', 'Django', 'and', 'Data', 'Ananlysis', 'here', '.']\n"
          ]
        }
      ]
    },
    {
      "cell_type": "code",
      "metadata": {
        "colab": {
          "base_uri": "https://localhost:8080/",
          "height": 0
        },
        "id": "xrpc-8GfL__p",
        "outputId": "48f6aa8f-3af1-4fe4-8f86-c04c4f45296b"
      },
      "source": [
        "import nltk\n",
        "sentence_data = \"\"\"The First sentence is about Python.\n",
        "The Second: about Django.\n",
        "You can learn Python,Django and Data Ananlysis here. \"\"\"\n",
        "nltk_tokens = nltk.sent_tokenize(sentence_data)\n",
        "print (nltk_tokens)"
      ],
      "execution_count": 2,
      "outputs": [
        {
          "output_type": "stream",
          "name": "stdout",
          "text": [
            "['The First sentence is about Python.', 'The Second: about Django.', 'You can learn Python,Django and Data Ananlysis here.']\n"
          ]
        }
      ]
    }
  ]
}